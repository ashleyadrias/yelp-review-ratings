{
 "cells": [
  {
   "cell_type": "code",
   "execution_count": 13,
   "metadata": {},
   "outputs": [],
   "source": [
    "import spacy\n",
    "import pandas as pd\n",
    "import spacy\n",
    "import tqdm\n",
    "from tqdm import tqdm"
   ]
  },
  {
   "cell_type": "code",
   "execution_count": null,
   "metadata": {},
   "outputs": [],
   "source": [
    "nlp = spacy.load('en_core_web_lg')"
   ]
  },
  {
   "cell_type": "code",
   "execution_count": 2,
   "metadata": {},
   "outputs": [
    {
     "data": {
      "text/html": [
       "<div>\n",
       "<style scoped>\n",
       "    .dataframe tbody tr th:only-of-type {\n",
       "        vertical-align: middle;\n",
       "    }\n",
       "\n",
       "    .dataframe tbody tr th {\n",
       "        vertical-align: top;\n",
       "    }\n",
       "\n",
       "    .dataframe thead th {\n",
       "        text-align: right;\n",
       "    }\n",
       "</style>\n",
       "<table border=\"1\" class=\"dataframe\">\n",
       "  <thead>\n",
       "    <tr style=\"text-align: right;\">\n",
       "      <th></th>\n",
       "      <th>index</th>\n",
       "      <th>user_id</th>\n",
       "      <th>business_id</th>\n",
       "      <th>stars</th>\n",
       "      <th>text</th>\n",
       "      <th>state</th>\n",
       "      <th>rating</th>\n",
       "      <th>categories</th>\n",
       "      <th>star_categories</th>\n",
       "      <th>tokens</th>\n",
       "    </tr>\n",
       "  </thead>\n",
       "  <tbody>\n",
       "    <tr>\n",
       "      <th>0</th>\n",
       "      <td>5187187</td>\n",
       "      <td>Dym1vn-YOcQAcR-cJOGMFg</td>\n",
       "      <td>EKnbQlntPX0FsgAC94XniA</td>\n",
       "      <td>3.0</td>\n",
       "      <td>Very bad service to start with. Came with grou...</td>\n",
       "      <td>ON</td>\n",
       "      <td>3.0</td>\n",
       "      <td>Chinese, Noodles, Restaurants</td>\n",
       "      <td>Bad</td>\n",
       "      <td>['bad', 'service', 'start', 'come', 'group', '...</td>\n",
       "    </tr>\n",
       "    <tr>\n",
       "      <th>1</th>\n",
       "      <td>1831372</td>\n",
       "      <td>Ybs6-fKCp2pwsfSevZ5cKg</td>\n",
       "      <td>MLQeuiL9rqOq_rDKGEcU0A</td>\n",
       "      <td>2.0</td>\n",
       "      <td>So-so. Meals were OK, dry martini wasn't, and ...</td>\n",
       "      <td>ON</td>\n",
       "      <td>3.5</td>\n",
       "      <td>Restaurants, Pizza, Italian</td>\n",
       "      <td>Bad</td>\n",
       "      <td>['meal', 'ok', 'dry', 'martini', 'wasn', 'fini...</td>\n",
       "    </tr>\n",
       "    <tr>\n",
       "      <th>2</th>\n",
       "      <td>4564496</td>\n",
       "      <td>kgcaYt5PFkdzznmdV3VNXw</td>\n",
       "      <td>4MLQG9gKglkALP0EnsEMeA</td>\n",
       "      <td>4.0</td>\n",
       "      <td>Good food. Reasonably priced. The royal pad Th...</td>\n",
       "      <td>ON</td>\n",
       "      <td>3.5</td>\n",
       "      <td>Restaurants, Thai</td>\n",
       "      <td>Good</td>\n",
       "      <td>['good', 'food', 'reasonably', 'price', 'royal...</td>\n",
       "    </tr>\n",
       "    <tr>\n",
       "      <th>3</th>\n",
       "      <td>2980901</td>\n",
       "      <td>3odcL7qzm2EwEh4Y9aFcdg</td>\n",
       "      <td>KVpvE6pOPM9KMvak4HFsNg</td>\n",
       "      <td>1.0</td>\n",
       "      <td>The pizzas here are really nothing special. I ...</td>\n",
       "      <td>ON</td>\n",
       "      <td>4.0</td>\n",
       "      <td>Restaurants, Italian, Pizza</td>\n",
       "      <td>Bad</td>\n",
       "      <td>['pizza', 'special', 'don', 'understand', 'hyp...</td>\n",
       "    </tr>\n",
       "    <tr>\n",
       "      <th>4</th>\n",
       "      <td>5137087</td>\n",
       "      <td>blzoo8N0xhXbThjRBMbEqQ</td>\n",
       "      <td>BTxJv_Ad8bCxYfbC6w3ugA</td>\n",
       "      <td>5.0</td>\n",
       "      <td>I got a tafu sandwich, at first was skeptical ...</td>\n",
       "      <td>ON</td>\n",
       "      <td>4.0</td>\n",
       "      <td>Vietnamese, Restaurants, Sandwiches</td>\n",
       "      <td>Excellent</td>\n",
       "      <td>['get', 'tafu', 'sandwich', 'skeptical', 'plac...</td>\n",
       "    </tr>\n",
       "  </tbody>\n",
       "</table>\n",
       "</div>"
      ],
      "text/plain": [
       "     index                 user_id             business_id  stars  \\\n",
       "0  5187187  Dym1vn-YOcQAcR-cJOGMFg  EKnbQlntPX0FsgAC94XniA    3.0   \n",
       "1  1831372  Ybs6-fKCp2pwsfSevZ5cKg  MLQeuiL9rqOq_rDKGEcU0A    2.0   \n",
       "2  4564496  kgcaYt5PFkdzznmdV3VNXw  4MLQG9gKglkALP0EnsEMeA    4.0   \n",
       "3  2980901  3odcL7qzm2EwEh4Y9aFcdg  KVpvE6pOPM9KMvak4HFsNg    1.0   \n",
       "4  5137087  blzoo8N0xhXbThjRBMbEqQ  BTxJv_Ad8bCxYfbC6w3ugA    5.0   \n",
       "\n",
       "                                                text state  rating  \\\n",
       "0  Very bad service to start with. Came with grou...    ON     3.0   \n",
       "1  So-so. Meals were OK, dry martini wasn't, and ...    ON     3.5   \n",
       "2  Good food. Reasonably priced. The royal pad Th...    ON     3.5   \n",
       "3  The pizzas here are really nothing special. I ...    ON     4.0   \n",
       "4  I got a tafu sandwich, at first was skeptical ...    ON     4.0   \n",
       "\n",
       "                            categories star_categories  \\\n",
       "0        Chinese, Noodles, Restaurants             Bad   \n",
       "1          Restaurants, Pizza, Italian             Bad   \n",
       "2                    Restaurants, Thai            Good   \n",
       "3          Restaurants, Italian, Pizza             Bad   \n",
       "4  Vietnamese, Restaurants, Sandwiches       Excellent   \n",
       "\n",
       "                                              tokens  \n",
       "0  ['bad', 'service', 'start', 'come', 'group', '...  \n",
       "1  ['meal', 'ok', 'dry', 'martini', 'wasn', 'fini...  \n",
       "2  ['good', 'food', 'reasonably', 'price', 'royal...  \n",
       "3  ['pizza', 'special', 'don', 'understand', 'hyp...  \n",
       "4  ['get', 'tafu', 'sandwich', 'skeptical', 'plac...  "
      ]
     },
     "execution_count": 2,
     "metadata": {},
     "output_type": "execute_result"
    }
   ],
   "source": [
    "df = pd.read_csv('data/cleaned_merged.csv')\n",
    "df.head()"
   ]
  },
  {
   "cell_type": "code",
   "execution_count": 21,
   "metadata": {},
   "outputs": [
    {
     "data": {
      "text/plain": [
       "(12000, 10)"
      ]
     },
     "execution_count": 21,
     "metadata": {},
     "output_type": "execute_result"
    }
   ],
   "source": [
    "df.shape"
   ]
  },
  {
   "cell_type": "code",
   "execution_count": 26,
   "metadata": {},
   "outputs": [],
   "source": [
    "from sklearn.model_selection import train_test_split \n",
    "\n",
    "train, test = train_test_split(df, test_size=0.33, random_state=42)\n",
    "\n",
    "feature = 'text'\n",
    "target = 'star_categories'\n",
    "\n",
    "#Train\n",
    "X_train = train[feature]\n",
    "y_train = train[target]\n",
    "\n",
    "# Validation Sets\n",
    "X_valid = valid[feature]\n",
    "y_valid = valid[target]"
   ]
  },
  {
   "cell_type": "code",
   "execution_count": 27,
   "metadata": {},
   "outputs": [
    {
     "data": {
      "text/plain": [
       "Bad          3171\n",
       "Good         2651\n",
       "Excellent    2218\n",
       "Name: star_categories, dtype: int64"
      ]
     },
     "execution_count": 27,
     "metadata": {},
     "output_type": "execute_result"
    }
   ],
   "source": [
    "y_train.value_counts()"
   ]
  },
  {
   "cell_type": "code",
   "execution_count": 28,
   "metadata": {},
   "outputs": [
    {
     "data": {
      "text/plain": [
       "Bad          932\n",
       "Good         770\n",
       "Excellent    698\n",
       "Name: star_categories, dtype: int64"
      ]
     },
     "execution_count": 28,
     "metadata": {},
     "output_type": "execute_result"
    }
   ],
   "source": [
    "y_valid.value_counts()"
   ]
  },
  {
   "cell_type": "code",
   "execution_count": 29,
   "metadata": {},
   "outputs": [
    {
     "name": "stderr",
     "output_type": "stream",
     "text": [
      "100%|██████████| 8040/8040 [12:15<00:00, 10.93it/s]\n"
     ]
    }
   ],
   "source": [
    "def get_word_vectors(docs):\n",
    "    return [nlp(doc).vector for doc in tqdm(docs)]\n",
    "\n",
    "X_train = get_word_vectors(X_train)"
   ]
  },
  {
   "cell_type": "code",
   "execution_count": 30,
   "metadata": {},
   "outputs": [
    {
     "data": {
      "text/plain": [
       "1.0"
      ]
     },
     "execution_count": 30,
     "metadata": {},
     "output_type": "execute_result"
    }
   ],
   "source": [
    "from sklearn.ensemble import RandomForestClassifier\n",
    "\n",
    "rfc = RandomForestClassifier()\n",
    "rfc.fit(X_train, y_train)\n",
    "rfc.score(X_train, y_train)"
   ]
  },
  {
   "cell_type": "code",
   "execution_count": null,
   "metadata": {},
   "outputs": [],
   "source": [
    "X_valid = get_word_vectors(X_valid)"
   ]
  },
  {
   "cell_type": "code",
   "execution_count": 32,
   "metadata": {},
   "outputs": [],
   "source": [
    "y_pred = rfc.predict(X_valid)"
   ]
  },
  {
   "cell_type": "code",
   "execution_count": 33,
   "metadata": {},
   "outputs": [
    {
     "name": "stdout",
     "output_type": "stream",
     "text": [
      "              precision    recall  f1-score   support\n",
      "\n",
      "         Bad       0.88      0.94      0.91       932\n",
      "   Excellent       0.89      0.81      0.85       698\n",
      "        Good       0.82      0.82      0.82       770\n",
      "\n",
      "    accuracy                           0.86      2400\n",
      "   macro avg       0.87      0.86      0.86      2400\n",
      "weighted avg       0.87      0.86      0.86      2400\n",
      "\n"
     ]
    }
   ],
   "source": [
    "from sklearn.metrics import classification_report\n",
    "\n",
    "print(classification_report(y_valid, y_pred))"
   ]
  },
  {
   "cell_type": "code",
   "execution_count": 34,
   "metadata": {},
   "outputs": [
    {
     "data": {
      "image/png": "[encoded data removed]",
      "text/plain": [
       "<Figure size 432x288 with 2 Axes>"
      ]
     },
     "metadata": {
      "needs_background": "light"
     },
     "output_type": "display_data"
    }
   ],
   "source": [
    "import seaborn as sns\n",
    "from sklearn.utils.multiclass import unique_labels\n",
    "from sklearn.metrics import confusion_matrix\n",
    "\n",
    "def plot_confusion_matrix(y_true, y_pred):\n",
    "    labels = unique_labels(y_true)\n",
    "    columns = [f'Predicted {label}' for label in labels]\n",
    "    index = [f'Actual {label}' for label in labels]\n",
    "    table = pd.DataFrame(confusion_matrix(y_true, y_pred), \n",
    "                         columns=columns, index=index)\n",
    "    return sns.heatmap(table, annot=True, fmt='d', cmap='viridis')\n",
    "\n",
    "plot_confusion_matrix(y_valid, y_pred);"
   ]
  },
  {
   "cell_type": "code",
   "execution_count": null,
   "metadata": {},
   "outputs": [],
   "source": []
  }
 ],
 "metadata": {
  "kernelspec": {
   "display_name": "Python 3",
   "language": "python",
   "name": "python3"
  },
  "language_info": {
   "codemirror_mode": {
    "name": "ipython",
    "version": 3
   },
   "file_extension": ".py",
   "mimetype": "text/x-python",
   "name": "python",
   "nbconvert_exporter": "python",
   "pygments_lexer": "ipython3",
   "version": "3.7.6"
  }
 },
 "nbformat": 4,
 "nbformat_minor": 4
}
