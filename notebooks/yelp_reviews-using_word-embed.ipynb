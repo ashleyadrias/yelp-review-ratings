{
 "cells": [
  {
   "cell_type": "code",
   "execution_count": 1,
   "metadata": {},
   "outputs": [],
   "source": [
    "import spacy\n",
    "import pandas as pd\n",
    "import spacy\n",
    "import tqdm\n",
    "from tqdm import tqdm\n",
    "import numpy as np"
   ]
  },
  {
   "cell_type": "code",
   "execution_count": 18,
   "metadata": {},
   "outputs": [
    {
     "data": {
      "text/html": [
       "<div>\n",
       "<style scoped>\n",
       "    .dataframe tbody tr th:only-of-type {\n",
       "        vertical-align: middle;\n",
       "    }\n",
       "\n",
       "    .dataframe tbody tr th {\n",
       "        vertical-align: top;\n",
       "    }\n",
       "\n",
       "    .dataframe thead th {\n",
       "        text-align: right;\n",
       "    }\n",
       "</style>\n",
       "<table border=\"1\" class=\"dataframe\">\n",
       "  <thead>\n",
       "    <tr style=\"text-align: right;\">\n",
       "      <th></th>\n",
       "      <th>index</th>\n",
       "      <th>user_id</th>\n",
       "      <th>business_id</th>\n",
       "      <th>stars</th>\n",
       "      <th>text</th>\n",
       "      <th>state</th>\n",
       "      <th>rating</th>\n",
       "      <th>categories</th>\n",
       "      <th>star_categories</th>\n",
       "      <th>tokens</th>\n",
       "    </tr>\n",
       "  </thead>\n",
       "  <tbody>\n",
       "    <tr>\n",
       "      <th>0</th>\n",
       "      <td>5187187</td>\n",
       "      <td>Dym1vn-YOcQAcR-cJOGMFg</td>\n",
       "      <td>EKnbQlntPX0FsgAC94XniA</td>\n",
       "      <td>3.0</td>\n",
       "      <td>Very bad service to start with. Came with grou...</td>\n",
       "      <td>ON</td>\n",
       "      <td>3.0</td>\n",
       "      <td>Chinese, Noodles, Restaurants</td>\n",
       "      <td>Bad</td>\n",
       "      <td>['bad', 'service', 'start', 'come', 'group', '...</td>\n",
       "    </tr>\n",
       "    <tr>\n",
       "      <th>1</th>\n",
       "      <td>1831372</td>\n",
       "      <td>Ybs6-fKCp2pwsfSevZ5cKg</td>\n",
       "      <td>MLQeuiL9rqOq_rDKGEcU0A</td>\n",
       "      <td>2.0</td>\n",
       "      <td>So-so. Meals were OK, dry martini wasn't, and ...</td>\n",
       "      <td>ON</td>\n",
       "      <td>3.5</td>\n",
       "      <td>Restaurants, Pizza, Italian</td>\n",
       "      <td>Bad</td>\n",
       "      <td>['meal', 'ok', 'dry', 'martini', 'wasn', 'fini...</td>\n",
       "    </tr>\n",
       "    <tr>\n",
       "      <th>2</th>\n",
       "      <td>4564496</td>\n",
       "      <td>kgcaYt5PFkdzznmdV3VNXw</td>\n",
       "      <td>4MLQG9gKglkALP0EnsEMeA</td>\n",
       "      <td>4.0</td>\n",
       "      <td>Good food. Reasonably priced. The royal pad Th...</td>\n",
       "      <td>ON</td>\n",
       "      <td>3.5</td>\n",
       "      <td>Restaurants, Thai</td>\n",
       "      <td>Good</td>\n",
       "      <td>['good', 'food', 'reasonably', 'price', 'royal...</td>\n",
       "    </tr>\n",
       "    <tr>\n",
       "      <th>3</th>\n",
       "      <td>2980901</td>\n",
       "      <td>3odcL7qzm2EwEh4Y9aFcdg</td>\n",
       "      <td>KVpvE6pOPM9KMvak4HFsNg</td>\n",
       "      <td>1.0</td>\n",
       "      <td>The pizzas here are really nothing special. I ...</td>\n",
       "      <td>ON</td>\n",
       "      <td>4.0</td>\n",
       "      <td>Restaurants, Italian, Pizza</td>\n",
       "      <td>Bad</td>\n",
       "      <td>['pizza', 'special', 'don', 'understand', 'hyp...</td>\n",
       "    </tr>\n",
       "    <tr>\n",
       "      <th>4</th>\n",
       "      <td>5137087</td>\n",
       "      <td>blzoo8N0xhXbThjRBMbEqQ</td>\n",
       "      <td>BTxJv_Ad8bCxYfbC6w3ugA</td>\n",
       "      <td>5.0</td>\n",
       "      <td>I got a tafu sandwich, at first was skeptical ...</td>\n",
       "      <td>ON</td>\n",
       "      <td>4.0</td>\n",
       "      <td>Vietnamese, Restaurants, Sandwiches</td>\n",
       "      <td>Excellent</td>\n",
       "      <td>['get', 'tafu', 'sandwich', 'skeptical', 'plac...</td>\n",
       "    </tr>\n",
       "  </tbody>\n",
       "</table>\n",
       "</div>"
      ],
      "text/plain": [
       "     index                 user_id             business_id  stars  \\\n",
       "0  5187187  Dym1vn-YOcQAcR-cJOGMFg  EKnbQlntPX0FsgAC94XniA    3.0   \n",
       "1  1831372  Ybs6-fKCp2pwsfSevZ5cKg  MLQeuiL9rqOq_rDKGEcU0A    2.0   \n",
       "2  4564496  kgcaYt5PFkdzznmdV3VNXw  4MLQG9gKglkALP0EnsEMeA    4.0   \n",
       "3  2980901  3odcL7qzm2EwEh4Y9aFcdg  KVpvE6pOPM9KMvak4HFsNg    1.0   \n",
       "4  5137087  blzoo8N0xhXbThjRBMbEqQ  BTxJv_Ad8bCxYfbC6w3ugA    5.0   \n",
       "\n",
       "                                                text state  rating  \\\n",
       "0  Very bad service to start with. Came with grou...    ON     3.0   \n",
       "1  So-so. Meals were OK, dry martini wasn't, and ...    ON     3.5   \n",
       "2  Good food. Reasonably priced. The royal pad Th...    ON     3.5   \n",
       "3  The pizzas here are really nothing special. I ...    ON     4.0   \n",
       "4  I got a tafu sandwich, at first was skeptical ...    ON     4.0   \n",
       "\n",
       "                            categories star_categories  \\\n",
       "0        Chinese, Noodles, Restaurants             Bad   \n",
       "1          Restaurants, Pizza, Italian             Bad   \n",
       "2                    Restaurants, Thai            Good   \n",
       "3          Restaurants, Italian, Pizza             Bad   \n",
       "4  Vietnamese, Restaurants, Sandwiches       Excellent   \n",
       "\n",
       "                                              tokens  \n",
       "0  ['bad', 'service', 'start', 'come', 'group', '...  \n",
       "1  ['meal', 'ok', 'dry', 'martini', 'wasn', 'fini...  \n",
       "2  ['good', 'food', 'reasonably', 'price', 'royal...  \n",
       "3  ['pizza', 'special', 'don', 'understand', 'hyp...  \n",
       "4  ['get', 'tafu', 'sandwich', 'skeptical', 'plac...  "
      ]
     },
     "execution_count": 18,
     "metadata": {},
     "output_type": "execute_result"
    }
   ],
   "source": [
    "df = pd.read_csv('data/cleaned_merged.csv')\n",
    "df.head()"
   ]
  },
  {
   "cell_type": "code",
   "execution_count": 20,
   "metadata": {},
   "outputs": [
    {
     "data": {
      "text/plain": [
       "(1413, 10)"
      ]
     },
     "execution_count": 20,
     "metadata": {},
     "output_type": "execute_result"
    }
   ],
   "source": [
    "categories = ['Chinese']\n",
    "df = df[df['categories'].str.contains('|'.join(categories))]\n",
    "df.shape"
   ]
  },
  {
   "cell_type": "code",
   "execution_count": 21,
   "metadata": {},
   "outputs": [
    {
     "data": {
      "text/plain": [
       "(1413, 10)"
      ]
     },
     "execution_count": 21,
     "metadata": {},
     "output_type": "execute_result"
    }
   ],
   "source": [
    "df.shape"
   ]
  },
  {
   "cell_type": "code",
   "execution_count": 22,
   "metadata": {},
   "outputs": [
    {
     "data": {
      "text/plain": [
       "Bad          666\n",
       "Good         455\n",
       "Excellent    292\n",
       "Name: star_categories, dtype: int64"
      ]
     },
     "execution_count": 22,
     "metadata": {},
     "output_type": "execute_result"
    }
   ],
   "source": [
    "df['star_categories'].value_counts()"
   ]
  },
  {
   "cell_type": "code",
   "execution_count": 23,
   "metadata": {},
   "outputs": [
    {
     "data": {
      "text/plain": [
       "index              1413\n",
       "user_id            1244\n",
       "business_id         646\n",
       "stars                 5\n",
       "text               1413\n",
       "state                 1\n",
       "rating                9\n",
       "categories          381\n",
       "star_categories       3\n",
       "tokens             1412\n",
       "dtype: int64"
      ]
     },
     "execution_count": 23,
     "metadata": {},
     "output_type": "execute_result"
    }
   ],
   "source": [
    "df.nunique()"
   ]
  },
  {
   "cell_type": "code",
   "execution_count": 33,
   "metadata": {},
   "outputs": [
    {
     "data": {
      "text/html": [
       "<div>\n",
       "<style scoped>\n",
       "    .dataframe tbody tr th:only-of-type {\n",
       "        vertical-align: middle;\n",
       "    }\n",
       "\n",
       "    .dataframe tbody tr th {\n",
       "        vertical-align: top;\n",
       "    }\n",
       "\n",
       "    .dataframe thead th {\n",
       "        text-align: right;\n",
       "    }\n",
       "</style>\n",
       "<table border=\"1\" class=\"dataframe\">\n",
       "  <thead>\n",
       "    <tr style=\"text-align: right;\">\n",
       "      <th></th>\n",
       "      <th>index</th>\n",
       "      <th>user_id</th>\n",
       "      <th>business_id</th>\n",
       "      <th>stars</th>\n",
       "      <th>text</th>\n",
       "      <th>state</th>\n",
       "      <th>rating</th>\n",
       "      <th>categories</th>\n",
       "      <th>star_categories</th>\n",
       "      <th>tokens</th>\n",
       "    </tr>\n",
       "  </thead>\n",
       "  <tbody>\n",
       "    <tr>\n",
       "      <th>0</th>\n",
       "      <td>5187187</td>\n",
       "      <td>Dym1vn-YOcQAcR-cJOGMFg</td>\n",
       "      <td>EKnbQlntPX0FsgAC94XniA</td>\n",
       "      <td>3.0</td>\n",
       "      <td>Very bad service to start with. Came with grou...</td>\n",
       "      <td>ON</td>\n",
       "      <td>3.0</td>\n",
       "      <td>Chinese, Noodles, Restaurants</td>\n",
       "      <td>Bad</td>\n",
       "      <td>['bad', 'service', 'start', 'come', 'group', '...</td>\n",
       "    </tr>\n",
       "    <tr>\n",
       "      <th>14</th>\n",
       "      <td>2562374</td>\n",
       "      <td>CSxe7cFEyfTClJolLYqhUA</td>\n",
       "      <td>awZx3Y1PAwhCUpt3WGZhKg</td>\n",
       "      <td>5.0</td>\n",
       "      <td>My wife and I spent $46 dollar tonight. We got...</td>\n",
       "      <td>ON</td>\n",
       "      <td>3.5</td>\n",
       "      <td>Fast Food, Chinese, Restaurants</td>\n",
       "      <td>Excellent</td>\n",
       "      <td>['wife', 'spend', 'dollar', 'tonight', 'get', ...</td>\n",
       "    </tr>\n",
       "    <tr>\n",
       "      <th>20</th>\n",
       "      <td>2427815</td>\n",
       "      <td>xxBo7hc6jysb_sDpRhYUSA</td>\n",
       "      <td>oRgoOhwCex1X9j1iQ9ou3w</td>\n",
       "      <td>4.0</td>\n",
       "      <td>Love to come to this place for early dim sum.....</td>\n",
       "      <td>ON</td>\n",
       "      <td>3.5</td>\n",
       "      <td>Chinese, Restaurants, Dim Sum</td>\n",
       "      <td>Good</td>\n",
       "      <td>['love', 'come', 'place', 'early', 'dim', 'sum...</td>\n",
       "    </tr>\n",
       "    <tr>\n",
       "      <th>25</th>\n",
       "      <td>3828681</td>\n",
       "      <td>n3z1iSEGynVgMK_nHmzryA</td>\n",
       "      <td>XXGzCIcxzAZ6H98mxZbdqA</td>\n",
       "      <td>4.0</td>\n",
       "      <td>Culture shock activate! No really, did I visit...</td>\n",
       "      <td>ON</td>\n",
       "      <td>3.5</td>\n",
       "      <td>Chinese, Imported Food, Food, Grocery, Interna...</td>\n",
       "      <td>Good</td>\n",
       "      <td>['culture', 'shock', 'activate', 'visit', 'tor...</td>\n",
       "    </tr>\n",
       "    <tr>\n",
       "      <th>50</th>\n",
       "      <td>313087</td>\n",
       "      <td>u7_dW0szdkiqTfliiF9_JQ</td>\n",
       "      <td>AbgNPAnuq8X90DUw5FQ2sQ</td>\n",
       "      <td>4.0</td>\n",
       "      <td>Came here for a Sunday dim sum lunch with my f...</td>\n",
       "      <td>ON</td>\n",
       "      <td>3.0</td>\n",
       "      <td>Chinese, Restaurants</td>\n",
       "      <td>Good</td>\n",
       "      <td>['come', 'sunday', 'dim', 'sum', 'lunch', 'fam...</td>\n",
       "    </tr>\n",
       "  </tbody>\n",
       "</table>\n",
       "</div>"
      ],
      "text/plain": [
       "      index                 user_id             business_id  stars  \\\n",
       "0   5187187  Dym1vn-YOcQAcR-cJOGMFg  EKnbQlntPX0FsgAC94XniA    3.0   \n",
       "14  2562374  CSxe7cFEyfTClJolLYqhUA  awZx3Y1PAwhCUpt3WGZhKg    5.0   \n",
       "20  2427815  xxBo7hc6jysb_sDpRhYUSA  oRgoOhwCex1X9j1iQ9ou3w    4.0   \n",
       "25  3828681  n3z1iSEGynVgMK_nHmzryA  XXGzCIcxzAZ6H98mxZbdqA    4.0   \n",
       "50   313087  u7_dW0szdkiqTfliiF9_JQ  AbgNPAnuq8X90DUw5FQ2sQ    4.0   \n",
       "\n",
       "                                                 text state  rating  \\\n",
       "0   Very bad service to start with. Came with grou...    ON     3.0   \n",
       "14  My wife and I spent $46 dollar tonight. We got...    ON     3.5   \n",
       "20  Love to come to this place for early dim sum.....    ON     3.5   \n",
       "25  Culture shock activate! No really, did I visit...    ON     3.5   \n",
       "50  Came here for a Sunday dim sum lunch with my f...    ON     3.0   \n",
       "\n",
       "                                           categories star_categories  \\\n",
       "0                       Chinese, Noodles, Restaurants             Bad   \n",
       "14                    Fast Food, Chinese, Restaurants       Excellent   \n",
       "20                      Chinese, Restaurants, Dim Sum            Good   \n",
       "25  Chinese, Imported Food, Food, Grocery, Interna...            Good   \n",
       "50                               Chinese, Restaurants            Good   \n",
       "\n",
       "                                               tokens  \n",
       "0   ['bad', 'service', 'start', 'come', 'group', '...  \n",
       "14  ['wife', 'spend', 'dollar', 'tonight', 'get', ...  \n",
       "20  ['love', 'come', 'place', 'early', 'dim', 'sum...  \n",
       "25  ['culture', 'shock', 'activate', 'visit', 'tor...  \n",
       "50  ['come', 'sunday', 'dim', 'sum', 'lunch', 'fam...  "
      ]
     },
     "execution_count": 33,
     "metadata": {},
     "output_type": "execute_result"
    }
   ],
   "source": [
    "df.head()"
   ]
  },
  {
   "cell_type": "markdown",
   "metadata": {},
   "source": [
    "### Split Train/Test"
   ]
  },
  {
   "cell_type": "code",
   "execution_count": 24,
   "metadata": {},
   "outputs": [],
   "source": [
    "from sklearn.model_selection import train_test_split \n",
    "\n",
    "train, test = train_test_split(df, test_size=0.33, random_state=42)\n",
    "\n",
    "feature = 'tokens'\n",
    "target = 'star_categories'\n",
    "\n",
    "#Train\n",
    "X_train = train[feature]\n",
    "y_train = train[target]\n",
    "\n",
    "# Validation Sets\n",
    "X_test = test[feature]\n",
    "y_test = test[target]"
   ]
  },
  {
   "cell_type": "code",
   "execution_count": 25,
   "metadata": {},
   "outputs": [
    {
     "data": {
      "text/plain": [
       "Bad          443\n",
       "Good         295\n",
       "Excellent    208\n",
       "Name: star_categories, dtype: int64"
      ]
     },
     "execution_count": 25,
     "metadata": {},
     "output_type": "execute_result"
    }
   ],
   "source": [
    "y_train.value_counts()"
   ]
  },
  {
   "cell_type": "code",
   "execution_count": 26,
   "metadata": {},
   "outputs": [
    {
     "data": {
      "text/plain": [
       "Bad          223\n",
       "Good         160\n",
       "Excellent     84\n",
       "Name: star_categories, dtype: int64"
      ]
     },
     "execution_count": 26,
     "metadata": {},
     "output_type": "execute_result"
    }
   ],
   "source": [
    "y_test.value_counts()"
   ]
  },
  {
   "cell_type": "markdown",
   "metadata": {},
   "source": [
    "### Spacy Word Embedding"
   ]
  },
  {
   "cell_type": "code",
   "execution_count": 27,
   "metadata": {},
   "outputs": [],
   "source": [
    "nlp = spacy.load('en_core_web_lg')"
   ]
  },
  {
   "cell_type": "code",
   "execution_count": 28,
   "metadata": {},
   "outputs": [
    {
     "name": "stderr",
     "output_type": "stream",
     "text": [
      "100%|██████████| 946/946 [00:31<00:00, 29.76it/s]\n"
     ]
    }
   ],
   "source": [
    "def get_word_vectors(docs):\n",
    "    return [nlp(doc).vector for doc in tqdm(docs)]\n",
    "\n",
    "X_train = get_word_vectors(X_train)"
   ]
  },
  {
   "cell_type": "code",
   "execution_count": 29,
   "metadata": {},
   "outputs": [
    {
     "data": {
      "text/plain": [
       "1.0"
      ]
     },
     "execution_count": 29,
     "metadata": {},
     "output_type": "execute_result"
    }
   ],
   "source": [
    "from sklearn.ensemble import RandomForestClassifier\n",
    "\n",
    "rfc = RandomForestClassifier()\n",
    "rfc.fit(X_train, y_train)\n",
    "rfc.score(X_train, y_train)"
   ]
  },
  {
   "cell_type": "code",
   "execution_count": 30,
   "metadata": {
    "scrolled": true
   },
   "outputs": [
    {
     "name": "stderr",
     "output_type": "stream",
     "text": [
      "100%|██████████| 467/467 [00:15<00:00, 29.63it/s]\n"
     ]
    }
   ],
   "source": [
    "X_test= get_word_vectors(X_test)"
   ]
  },
  {
   "cell_type": "code",
   "execution_count": 31,
   "metadata": {},
   "outputs": [],
   "source": [
    "y_pred = rfc.predict(X_test)"
   ]
  },
  {
   "cell_type": "code",
   "execution_count": 32,
   "metadata": {},
   "outputs": [
    {
     "name": "stdout",
     "output_type": "stream",
     "text": [
      "              precision    recall  f1-score   support\n",
      "\n",
      "         Bad       0.64      0.83      0.73       223\n",
      "   Excellent       0.34      0.27      0.30        84\n",
      "        Good       0.46      0.32      0.38       160\n",
      "\n",
      "    accuracy                           0.56       467\n",
      "   macro avg       0.48      0.48      0.47       467\n",
      "weighted avg       0.53      0.56      0.53       467\n",
      "\n"
     ]
    }
   ],
   "source": [
    "from sklearn.metrics import classification_report\n",
    "\n",
    "print(classification_report(y_test, y_pred))"
   ]
  },
  {
   "cell_type": "code",
   "execution_count": 17,
   "metadata": {},
   "outputs": [
    {
     "data": {
      "image/png": "[encoded data removed]",
      "text/plain": [
       "<Figure size 432x288 with 2 Axes>"
      ]
     },
     "metadata": {
      "needs_background": "light"
     },
     "output_type": "display_data"
    }
   ],
   "source": [
    "import seaborn as sns\n",
    "from sklearn.utils.multiclass import unique_labels\n",
    "from sklearn.metrics import confusion_matrix\n",
    "\n",
    "def plot_confusion_matrix(y_true, y_pred):\n",
    "    labels = unique_labels(y_true)\n",
    "    columns = [f'Predicted {label}' for label in labels]\n",
    "    index = [f'Actual {label}' for label in labels]\n",
    "    table = pd.DataFrame(confusion_matrix(y_true, y_pred), \n",
    "                         columns=columns, index=index)\n",
    "    return sns.heatmap(table, annot=True, fmt='d', cmap='viridis')\n",
    "\n",
    "plot_confusion_matrix(y_test, y_pred);"
   ]
  },
  {
   "cell_type": "markdown",
   "metadata": {},
   "source": [
    "### Word Embeddings Using Glove"
   ]
  },
  {
   "cell_type": "code",
   "execution_count": 44,
   "metadata": {},
   "outputs": [],
   "source": [
    "from zeugma.embeddings import EmbeddingTransformer\n",
    "from sklearn.ensemble import RandomForestClassifier\n",
    "\n",
    "glove = EmbeddingTransformer('glove')\n",
    "X_train = glove.transform(list(X_train))"
   ]
  },
  {
   "cell_type": "code",
   "execution_count": 45,
   "metadata": {},
   "outputs": [
    {
     "data": {
      "text/plain": [
       "RandomForestClassifier()"
      ]
     },
     "execution_count": 45,
     "metadata": {},
     "output_type": "execute_result"
    }
   ],
   "source": [
    "from sklearn.ensemble import RandomForestClassifier\n",
    "\n",
    "model = RandomForestClassifier()\n",
    "model.fit(X_train, y_train)"
   ]
  },
  {
   "cell_type": "code",
   "execution_count": 46,
   "metadata": {},
   "outputs": [
    {
     "data": {
      "text/plain": [
       "0.39440298507462684"
      ]
     },
     "execution_count": 46,
     "metadata": {},
     "output_type": "execute_result"
    }
   ],
   "source": [
    "model.score(X_train, y_train)"
   ]
  },
  {
   "cell_type": "code",
   "execution_count": 47,
   "metadata": {},
   "outputs": [],
   "source": [
    "X_test = glove.transform(list(X_test))\n",
    "y_pred = model.predict(X_test)"
   ]
  },
  {
   "cell_type": "code",
   "execution_count": 48,
   "metadata": {},
   "outputs": [
    {
     "name": "stdout",
     "output_type": "stream",
     "text": [
      "              precision    recall  f1-score   support\n",
      "\n",
      "         Bad       0.39      1.00      0.56      1539\n",
      "   Excellent       0.00      0.00      0.00      1112\n",
      "        Good       0.00      0.00      0.00      1309\n",
      "\n",
      "    accuracy                           0.39      3960\n",
      "   macro avg       0.13      0.33      0.19      3960\n",
      "weighted avg       0.15      0.39      0.22      3960\n",
      "\n"
     ]
    },
    {
     "name": "stderr",
     "output_type": "stream",
     "text": [
      "/Users/ashleyadrias/opt/anaconda3/lib/python3.7/site-packages/sklearn/metrics/_classification.py:1221: UndefinedMetricWarning: Precision and F-score are ill-defined and being set to 0.0 in labels with no predicted samples. Use `zero_division` parameter to control this behavior.\n",
      "  _warn_prf(average, modifier, msg_start, len(result))\n"
     ]
    }
   ],
   "source": [
    "from sklearn.metrics import classification_report\n",
    "\n",
    "print(classification_report(y_test, y_pred))"
   ]
  },
  {
   "cell_type": "code",
   "execution_count": 49,
   "metadata": {},
   "outputs": [
    {
     "data": {
      "image/png": "[encoded data removed]",
      "text/plain": [
       "<Figure size 432x288 with 2 Axes>"
      ]
     },
     "metadata": {
      "needs_background": "light"
     },
     "output_type": "display_data"
    }
   ],
   "source": [
    "import seaborn as sns\n",
    "from sklearn.utils.multiclass import unique_labels\n",
    "from sklearn.metrics import confusion_matrix\n",
    "\n",
    "def plot_confusion_matrix(y_true, y_pred):\n",
    "    labels = unique_labels(y_true)\n",
    "    columns = [f'Predicted {label}' for label in labels]\n",
    "    index = [f'Actual {label}' for label in labels]\n",
    "    table = pd.DataFrame(confusion_matrix(y_true, y_pred), \n",
    "                         columns=columns, index=index)\n",
    "    return sns.heatmap(table, annot=True, fmt='d', cmap='viridis')\n",
    "\n",
    "plot_confusion_matrix(y_test, y_pred);"
   ]
  },
  {
   "cell_type": "code",
   "execution_count": null,
   "metadata": {},
   "outputs": [],
   "source": []
  }
 ],
 "metadata": {
  "kernelspec": {
   "display_name": "Python 3",
   "language": "python",
   "name": "python3"
  },
  "language_info": {
   "codemirror_mode": {
    "name": "ipython",
    "version": 3
   },
   "file_extension": ".py",
   "mimetype": "text/x-python",
   "name": "python",
   "nbconvert_exporter": "python",
   "pygments_lexer": "ipython3",
   "version": "3.7.6"
  }
 },
 "nbformat": 4,
 "nbformat_minor": 4
}
